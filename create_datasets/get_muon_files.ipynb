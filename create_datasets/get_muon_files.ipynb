{
 "cells": [
  {
   "cell_type": "code",
   "execution_count": 7,
   "metadata": {},
   "outputs": [],
   "source": [
    "import numpy as np\n",
    "import muon as mu\n",
    "import scanpy as sc\n",
    "import anndata as ad\n",
    "import os\n",
    "\n",
    "from preprocessing import create_mdata, set_random_seed\n",
    "\n",
    "set_random_seed(1234)\n",
    "\n",
    "path = os.path.abspath('').replace('\\\\', '/')\n",
    "data_path = path.replace('/create_datasets', '')+'/dataset/'"
   ]
  },
  {
   "cell_type": "code",
   "execution_count": null,
   "metadata": {},
   "outputs": [
    {
     "name": "stdout",
     "output_type": "stream",
     "text": [
      "Creating the gene name translation dictionary.\n",
      "Registering experimental batches for the mouse dataset. Kept 6, removed 0.\n"
     ]
    },
    {
     "name": "stderr",
     "output_type": "stream",
     "text": [
      "/Users/cschaech/Desktop/Reproducibility/create_datasets/preprocessing.py:391: ImplicitModificationWarning: Setting element `.obsm['batch_label_enc']` of view, initializing view as actual.\n",
      "  adata.obsm['batch_label_enc'] = enc.transform(batch_labels).toarray().astype(np.float32)\n"
     ]
    },
    {
     "name": "stdout",
     "output_type": "stream",
     "text": [
      "Compute prior parameters for the library encoder.\n",
      "Translating the gene names of the mouse dataset from the mouse to human gene naming convention.\n",
      "Subsetting the mouse dataset to the 4000 most highly variable genes using seurat.\n",
      "Filtering cells. Kept 46321, removed 0.\n",
      "Done!\n",
      "----------------------------------------------------------------------------------------------------\n",
      "Registering experimental batches for the human dataset. Kept 12, removed 0.\n"
     ]
    },
    {
     "name": "stderr",
     "output_type": "stream",
     "text": [
      "/Users/cschaech/Desktop/Reproducibility/create_datasets/preprocessing.py:391: ImplicitModificationWarning: Setting element `.obsm['batch_label_enc']` of view, initializing view as actual.\n",
      "  adata.obsm['batch_label_enc'] = enc.transform(batch_labels).toarray().astype(np.float32)\n"
     ]
    },
    {
     "name": "stdout",
     "output_type": "stream",
     "text": [
      "Compute prior parameters for the library encoder.\n",
      "Translating the gene names of the human dataset from the human to mouse gene naming convention.\n",
      "Subsetting the human dataset to the 4000 most highly variable genes using seurat.\n",
      "Filtering cells. Kept 58560, removed 1.\n",
      "Compute 250 neighbors with the context dataset on the log1p transformed counts of 1825 homologous genes. Using cosine metric.\n"
     ]
    },
    {
     "name": "stderr",
     "output_type": "stream",
     "text": [
      "/Users/cschaech/Desktop/Reproducibility/create_datasets/preprocessing.py:187: ImplicitModificationWarning: Setting element `.obsm['ind_nns_hom_genes']` of view, initializing view as actual.\n",
      "  target_adata.obsm['ind_nns_hom_genes'] = indices_whole.astype(np.int32)\n",
      "/Users/cschaech/anaconda3/envs/scSpecies_env/lib/python3.11/site-packages/mudata/_core/mudata.py:1531: FutureWarning: From 0.4 .update() will not pull obs/var columns from individual modalities by default anymore. Set mudata.set_options(pull_on_update=False) to adopt the new behaviour, which will become the default. Use new pull_obs/pull_var and push_obs/push_var methods for more flexibility.\n",
      "  self._update_attr(\"var\", axis=0, join_common=join_common)\n",
      "/Users/cschaech/anaconda3/envs/scSpecies_env/lib/python3.11/site-packages/mudata/_core/mudata.py:931: UserWarning: Cannot join columns with the same name because var_names are intersecting.\n",
      "  warnings.warn(\n",
      "/Users/cschaech/anaconda3/envs/scSpecies_env/lib/python3.11/site-packages/mudata/_core/mudata.py:1429: FutureWarning: From 0.4 .update() will not pull obs/var columns from individual modalities by default anymore. Set mudata.set_options(pull_on_update=False) to adopt the new behaviour, which will become the default. Use new pull_obs/pull_var and push_obs/push_var methods for more flexibility.\n",
      "  self._update_attr(\"obs\", axis=1, join_common=join_common)\n"
     ]
    },
    {
     "name": "stdout",
     "output_type": "stream",
     "text": [
      "Done!\n",
      "--------------------------------------------------------------------------------\n",
      "\n",
      "Ceated directory '/Users/cschaech/Desktop/Reproducibility/create_datasets'.\n"
     ]
    },
    {
     "name": "stderr",
     "output_type": "stream",
     "text": [
      "/Users/cschaech/anaconda3/envs/scSpecies_env/lib/python3.11/site-packages/mudata/_core/mudata.py:1531: FutureWarning: From 0.4 .update() will not pull obs/var columns from individual modalities by default anymore. Set mudata.set_options(pull_on_update=False) to adopt the new behaviour, which will become the default. Use new pull_obs/pull_var and push_obs/push_var methods for more flexibility.\n",
      "  self._update_attr(\"var\", axis=0, join_common=join_common)\n",
      "/Users/cschaech/anaconda3/envs/scSpecies_env/lib/python3.11/site-packages/mudata/_core/mudata.py:1429: FutureWarning: From 0.4 .update() will not pull obs/var columns from individual modalities by default anymore. Set mudata.set_options(pull_on_update=False) to adopt the new behaviour, which will become the default. Use new pull_obs/pull_var and push_obs/push_var methods for more flexibility.\n",
      "  self._update_attr(\"obs\", axis=1, join_common=join_common)\n"
     ]
    },
    {
     "name": "stdout",
     "output_type": "stream",
     "text": [
      "Saved mdata to /Users/cschaech/Desktop/Reproducibility/create_datasets/dataset/glio.h5mu.\n",
      "Creating the gene name translation dictionary.\n",
      "Registering experimental batches for the mouse dataset. Kept 26, removed 0.\n"
     ]
    },
    {
     "name": "stderr",
     "output_type": "stream",
     "text": [
      "/Users/cschaech/Desktop/Reproducibility/create_datasets/preprocessing.py:391: ImplicitModificationWarning: Setting element `.obsm['batch_label_enc']` of view, initializing view as actual.\n",
      "  adata.obsm['batch_label_enc'] = enc.transform(batch_labels).toarray().astype(np.float32)\n"
     ]
    },
    {
     "name": "stdout",
     "output_type": "stream",
     "text": [
      "Compute prior parameters for the library encoder.\n",
      "Translating the gene names of the mouse dataset from the mouse to human gene naming convention.\n",
      "Subsetting the mouse dataset to the 4000 most highly variable genes using seurat.\n",
      "Filtering cells. Kept 192470, removed 5251.\n",
      "Done!\n",
      "----------------------------------------------------------------------------------------------------\n",
      "Registering experimental batches for the human dataset. Kept 24, removed 0.\n"
     ]
    },
    {
     "name": "stderr",
     "output_type": "stream",
     "text": [
      "/Users/cschaech/Desktop/Reproducibility/create_datasets/preprocessing.py:391: ImplicitModificationWarning: Setting element `.obsm['batch_label_enc']` of view, initializing view as actual.\n",
      "  adata.obsm['batch_label_enc'] = enc.transform(batch_labels).toarray().astype(np.float32)\n"
     ]
    },
    {
     "name": "stdout",
     "output_type": "stream",
     "text": [
      "Compute prior parameters for the library encoder.\n",
      "Translating the gene names of the human dataset from the human to mouse gene naming convention.\n",
      "Subsetting the human dataset to the 4000 most highly variable genes using seurat.\n",
      "Filtering cells. Kept 137306, removed 378.\n",
      "Compute 250 neighbors with the context dataset on the log1p transformed counts of 1940 homologous genes. Using cosine metric.\n"
     ]
    },
    {
     "name": "stderr",
     "output_type": "stream",
     "text": [
      "/Users/cschaech/Desktop/Reproducibility/create_datasets/preprocessing.py:187: ImplicitModificationWarning: Setting element `.obsm['ind_nns_hom_genes']` of view, initializing view as actual.\n",
      "  target_adata.obsm['ind_nns_hom_genes'] = indices_whole.astype(np.int32)\n"
     ]
    },
    {
     "name": "stdout",
     "output_type": "stream",
     "text": [
      "Done!\n",
      "--------------------------------------------------------------------------------\n"
     ]
    },
    {
     "name": "stderr",
     "output_type": "stream",
     "text": [
      "/Users/cschaech/anaconda3/envs/scSpecies_env/lib/python3.11/site-packages/mudata/_core/mudata.py:1531: FutureWarning: From 0.4 .update() will not pull obs/var columns from individual modalities by default anymore. Set mudata.set_options(pull_on_update=False) to adopt the new behaviour, which will become the default. Use new pull_obs/pull_var and push_obs/push_var methods for more flexibility.\n",
      "  self._update_attr(\"var\", axis=0, join_common=join_common)\n",
      "/Users/cschaech/anaconda3/envs/scSpecies_env/lib/python3.11/site-packages/mudata/_core/mudata.py:931: UserWarning: Cannot join columns with the same name because var_names are intersecting.\n",
      "  warnings.warn(\n",
      "/Users/cschaech/anaconda3/envs/scSpecies_env/lib/python3.11/site-packages/mudata/_core/mudata.py:1429: FutureWarning: From 0.4 .update() will not pull obs/var columns from individual modalities by default anymore. Set mudata.set_options(pull_on_update=False) to adopt the new behaviour, which will become the default. Use new pull_obs/pull_var and push_obs/push_var methods for more flexibility.\n",
      "  self._update_attr(\"obs\", axis=1, join_common=join_common)\n",
      "/Users/cschaech/anaconda3/envs/scSpecies_env/lib/python3.11/site-packages/mudata/_core/mudata.py:1531: FutureWarning: From 0.4 .update() will not pull obs/var columns from individual modalities by default anymore. Set mudata.set_options(pull_on_update=False) to adopt the new behaviour, which will become the default. Use new pull_obs/pull_var and push_obs/push_var methods for more flexibility.\n",
      "  self._update_attr(\"var\", axis=0, join_common=join_common)\n",
      "/Users/cschaech/anaconda3/envs/scSpecies_env/lib/python3.11/site-packages/mudata/_core/mudata.py:1429: FutureWarning: From 0.4 .update() will not pull obs/var columns from individual modalities by default anymore. Set mudata.set_options(pull_on_update=False) to adopt the new behaviour, which will become the default. Use new pull_obs/pull_var and push_obs/push_var methods for more flexibility.\n",
      "  self._update_attr(\"obs\", axis=1, join_common=join_common)\n"
     ]
    },
    {
     "name": "stdout",
     "output_type": "stream",
     "text": [
      "Saved mdata to /Users/cschaech/Desktop/Reproducibility/create_datasets/dataset/adipose.h5mu.\n",
      "Creating the gene name translation dictionary.\n",
      "Registering experimental batches for the mouse dataset. Kept 34, removed 0.\n"
     ]
    },
    {
     "name": "stderr",
     "output_type": "stream",
     "text": [
      "/Users/cschaech/Desktop/Reproducibility/create_datasets/preprocessing.py:391: ImplicitModificationWarning: Setting element `.obsm['batch_label_enc']` of view, initializing view as actual.\n",
      "  adata.obsm['batch_label_enc'] = enc.transform(batch_labels).toarray().astype(np.float32)\n"
     ]
    },
    {
     "name": "stdout",
     "output_type": "stream",
     "text": [
      "Compute prior parameters for the library encoder.\n",
      "Translating the gene names of the mouse dataset from the mouse to human gene naming convention.\n",
      "Subsetting the mouse dataset to the 4000 most highly variable genes using seurat.\n",
      "Filtering cells. Kept 165680, removed 388.\n",
      "Done!\n",
      "----------------------------------------------------------------------------------------------------\n",
      "Registering experimental batches for the mouseNafld dataset. Kept 22, removed 0.\n"
     ]
    },
    {
     "name": "stderr",
     "output_type": "stream",
     "text": [
      "/Users/cschaech/Desktop/Reproducibility/create_datasets/preprocessing.py:391: ImplicitModificationWarning: Setting element `.obsm['batch_label_enc']` of view, initializing view as actual.\n",
      "  adata.obsm['batch_label_enc'] = enc.transform(batch_labels).toarray().astype(np.float32)\n"
     ]
    },
    {
     "name": "stdout",
     "output_type": "stream",
     "text": [
      "Compute prior parameters for the library encoder.\n",
      "Translating the gene names of the mouseNafld dataset from the mouse to human gene naming convention.\n",
      "Subsetting the mouseNafld dataset to the 4000 most highly variable genes using seurat.\n",
      "Filtering cells. Kept 91787, removed 2.\n",
      "Compute 250 neighbors with the context dataset on the log1p transformed counts of 3203 homologous genes. Using cosine metric.\n"
     ]
    },
    {
     "name": "stderr",
     "output_type": "stream",
     "text": [
      "/Users/cschaech/Desktop/Reproducibility/create_datasets/preprocessing.py:187: ImplicitModificationWarning: Setting element `.obsm['ind_nns_hom_genes']` of view, initializing view as actual.\n",
      "  target_adata.obsm['ind_nns_hom_genes'] = indices_whole.astype(np.int32)\n"
     ]
    },
    {
     "name": "stdout",
     "output_type": "stream",
     "text": [
      "Done!\n",
      "--------------------------------------------------------------------------------\n",
      "Registering experimental batches for the human dataset. Kept 30, removed 0.\n"
     ]
    },
    {
     "name": "stderr",
     "output_type": "stream",
     "text": [
      "/Users/cschaech/Desktop/Reproducibility/create_datasets/preprocessing.py:391: ImplicitModificationWarning: Setting element `.obsm['batch_label_enc']` of view, initializing view as actual.\n",
      "  adata.obsm['batch_label_enc'] = enc.transform(batch_labels).toarray().astype(np.float32)\n"
     ]
    },
    {
     "name": "stdout",
     "output_type": "stream",
     "text": [
      "Compute prior parameters for the library encoder.\n",
      "Translating the gene names of the human dataset from the human to mouse gene naming convention.\n",
      "Subsetting the human dataset to the 4000 most highly variable genes using seurat.\n",
      "Filtering cells. Kept 146839, removed 6.\n",
      "Compute 250 neighbors with the context dataset on the log1p transformed counts of 1807 homologous genes. Using cosine metric.\n"
     ]
    },
    {
     "name": "stderr",
     "output_type": "stream",
     "text": [
      "/Users/cschaech/Desktop/Reproducibility/create_datasets/preprocessing.py:187: ImplicitModificationWarning: Setting element `.obsm['ind_nns_hom_genes']` of view, initializing view as actual.\n",
      "  target_adata.obsm['ind_nns_hom_genes'] = indices_whole.astype(np.int32)\n"
     ]
    },
    {
     "name": "stdout",
     "output_type": "stream",
     "text": [
      "Done!\n",
      "--------------------------------------------------------------------------------\n",
      "Registering experimental batches for the pig dataset. Kept 2, removed 0.\n"
     ]
    },
    {
     "name": "stderr",
     "output_type": "stream",
     "text": [
      "/Users/cschaech/Desktop/Reproducibility/create_datasets/preprocessing.py:391: ImplicitModificationWarning: Setting element `.obsm['batch_label_enc']` of view, initializing view as actual.\n",
      "  adata.obsm['batch_label_enc'] = enc.transform(batch_labels).toarray().astype(np.float32)\n"
     ]
    },
    {
     "name": "stdout",
     "output_type": "stream",
     "text": [
      "Compute prior parameters for the library encoder.\n",
      "Translating the gene names of the pig dataset from the human to mouse gene naming convention.\n",
      "Subsetting the pig dataset to the 4000 most highly variable genes using seurat.\n",
      "Filtering cells. Kept 21907, removed 0.\n",
      "Compute 250 neighbors with the context dataset on the log1p transformed counts of 1695 homologous genes. Using cosine metric.\n"
     ]
    },
    {
     "name": "stderr",
     "output_type": "stream",
     "text": [
      "/Users/cschaech/Desktop/Reproducibility/create_datasets/preprocessing.py:187: ImplicitModificationWarning: Setting element `.obsm['ind_nns_hom_genes']` of view, initializing view as actual.\n",
      "  target_adata.obsm['ind_nns_hom_genes'] = indices_whole.astype(np.int32)\n",
      "/Users/cschaech/Desktop/Reproducibility/create_datasets/preprocessing.py:391: ImplicitModificationWarning: Setting element `.obsm['batch_label_enc']` of view, initializing view as actual.\n",
      "  adata.obsm['batch_label_enc'] = enc.transform(batch_labels).toarray().astype(np.float32)\n"
     ]
    },
    {
     "name": "stdout",
     "output_type": "stream",
     "text": [
      "Done!\n",
      "--------------------------------------------------------------------------------\n",
      "Registering experimental batches for the chicken dataset. Kept 2, removed 0.\n",
      "Compute prior parameters for the library encoder.\n",
      "Translating the gene names of the chicken dataset from the human to mouse gene naming convention.\n",
      "Subsetting the chicken dataset to the 4000 most highly variable genes using seurat.\n",
      "Filtering cells. Kept 7456, removed 1.\n",
      "Compute 250 neighbors with the context dataset on the log1p transformed counts of 1195 homologous genes. Using cosine metric.\n"
     ]
    },
    {
     "name": "stderr",
     "output_type": "stream",
     "text": [
      "/Users/cschaech/Desktop/Reproducibility/create_datasets/preprocessing.py:187: ImplicitModificationWarning: Setting element `.obsm['ind_nns_hom_genes']` of view, initializing view as actual.\n",
      "  target_adata.obsm['ind_nns_hom_genes'] = indices_whole.astype(np.int32)\n",
      "/Users/cschaech/Desktop/Reproducibility/create_datasets/preprocessing.py:391: ImplicitModificationWarning: Setting element `.obsm['batch_label_enc']` of view, initializing view as actual.\n",
      "  adata.obsm['batch_label_enc'] = enc.transform(batch_labels).toarray().astype(np.float32)\n"
     ]
    },
    {
     "name": "stdout",
     "output_type": "stream",
     "text": [
      "Done!\n",
      "--------------------------------------------------------------------------------\n",
      "Registering experimental batches for the hamster dataset. Kept 2, removed 0.\n",
      "Compute prior parameters for the library encoder.\n",
      "Translating the gene names of the hamster dataset from the mouse to human gene naming convention.\n",
      "Subsetting the hamster dataset to the 4000 most highly variable genes using seurat.\n",
      "Filtering cells. Kept 5955, removed 10.\n",
      "Compute 250 neighbors with the context dataset on the log1p transformed counts of 1692 homologous genes. Using cosine metric.\n"
     ]
    },
    {
     "name": "stderr",
     "output_type": "stream",
     "text": [
      "/Users/cschaech/Desktop/Reproducibility/create_datasets/preprocessing.py:187: ImplicitModificationWarning: Setting element `.obsm['ind_nns_hom_genes']` of view, initializing view as actual.\n",
      "  target_adata.obsm['ind_nns_hom_genes'] = indices_whole.astype(np.int32)\n",
      "/Users/cschaech/Desktop/Reproducibility/create_datasets/preprocessing.py:391: ImplicitModificationWarning: Setting element `.obsm['batch_label_enc']` of view, initializing view as actual.\n",
      "  adata.obsm['batch_label_enc'] = enc.transform(batch_labels).toarray().astype(np.float32)\n"
     ]
    },
    {
     "name": "stdout",
     "output_type": "stream",
     "text": [
      "Done!\n",
      "--------------------------------------------------------------------------------\n",
      "Registering experimental batches for the monkey dataset. Kept 2, removed 0.\n",
      "Compute prior parameters for the library encoder.\n",
      "Translating the gene names of the monkey dataset from the human to mouse gene naming convention.\n",
      "Subsetting the monkey dataset to the 4000 most highly variable genes using seurat.\n",
      "Filtering cells. Kept 8483, removed 0.\n",
      "Compute 250 neighbors with the context dataset on the log1p transformed counts of 1292 homologous genes. Using cosine metric.\n"
     ]
    },
    {
     "name": "stderr",
     "output_type": "stream",
     "text": [
      "/Users/cschaech/Desktop/Reproducibility/create_datasets/preprocessing.py:187: ImplicitModificationWarning: Setting element `.obsm['ind_nns_hom_genes']` of view, initializing view as actual.\n",
      "  target_adata.obsm['ind_nns_hom_genes'] = indices_whole.astype(np.int32)\n",
      "/Users/cschaech/anaconda3/envs/scSpecies_env/lib/python3.11/site-packages/mudata/_core/mudata.py:1531: FutureWarning: From 0.4 .update() will not pull obs/var columns from individual modalities by default anymore. Set mudata.set_options(pull_on_update=False) to adopt the new behaviour, which will become the default. Use new pull_obs/pull_var and push_obs/push_var methods for more flexibility.\n",
      "  self._update_attr(\"var\", axis=0, join_common=join_common)\n",
      "/Users/cschaech/anaconda3/envs/scSpecies_env/lib/python3.11/site-packages/mudata/_core/mudata.py:931: UserWarning: Cannot join columns with the same name because var_names are intersecting.\n",
      "  warnings.warn(\n",
      "/Users/cschaech/anaconda3/envs/scSpecies_env/lib/python3.11/site-packages/mudata/_core/mudata.py:1429: FutureWarning: From 0.4 .update() will not pull obs/var columns from individual modalities by default anymore. Set mudata.set_options(pull_on_update=False) to adopt the new behaviour, which will become the default. Use new pull_obs/pull_var and push_obs/push_var methods for more flexibility.\n",
      "  self._update_attr(\"obs\", axis=1, join_common=join_common)\n"
     ]
    },
    {
     "name": "stdout",
     "output_type": "stream",
     "text": [
      "Done!\n",
      "--------------------------------------------------------------------------------\n"
     ]
    },
    {
     "name": "stderr",
     "output_type": "stream",
     "text": [
      "/Users/cschaech/anaconda3/envs/scSpecies_env/lib/python3.11/site-packages/mudata/_core/mudata.py:1531: FutureWarning: From 0.4 .update() will not pull obs/var columns from individual modalities by default anymore. Set mudata.set_options(pull_on_update=False) to adopt the new behaviour, which will become the default. Use new pull_obs/pull_var and push_obs/push_var methods for more flexibility.\n",
      "  self._update_attr(\"var\", axis=0, join_common=join_common)\n",
      "/Users/cschaech/anaconda3/envs/scSpecies_env/lib/python3.11/site-packages/mudata/_core/mudata.py:1429: FutureWarning: From 0.4 .update() will not pull obs/var columns from individual modalities by default anymore. Set mudata.set_options(pull_on_update=False) to adopt the new behaviour, which will become the default. Use new pull_obs/pull_var and push_obs/push_var methods for more flexibility.\n",
      "  self._update_attr(\"obs\", axis=1, join_common=join_common)\n"
     ]
    },
    {
     "name": "stdout",
     "output_type": "stream",
     "text": [
      "Saved mdata to /Users/cschaech/Desktop/Reproducibility/create_datasets/dataset/liver.h5mu.\n"
     ]
    }
   ],
   "source": [
    "#glioblastoma\n",
    "preprocess = create_mdata(ad.read_h5ad(data_path+'glio_mouse.h5ad'), \n",
    "                          context_batch_key='batch', \n",
    "                          context_cell_key='cell_type_fine', \n",
    "                          context_dataset_name='mouse', \n",
    "                          context_gene_naming_convention='mouse', \n",
    "                          context_n_top_genes=4000)\n",
    "\n",
    "preprocess.setup_target_adata(ad.read_h5ad(data_path+'glio_human.h5ad'), \n",
    "                              target_batch_key='batch', \n",
    "                              target_cell_key='cell_type_fine', \n",
    "                              target_dataset_name='human', \n",
    "                              target_gene_naming_convention='human', \n",
    "                              target_n_top_genes=4000)\n",
    "\n",
    "preprocess.save_mdata(path, 'glio')\n",
    "\n",
    "#adipose\n",
    "preprocess = create_mdata(ad.read_h5ad(data_path+'adipose_mouse.h5ad'), \n",
    "                          context_batch_key='batch', \n",
    "                          context_cell_key='cell_type_fine', \n",
    "                          context_dataset_name='mouse', \n",
    "                          context_gene_naming_convention='mouse', \n",
    "                          context_n_top_genes=4000)\n",
    "\n",
    "preprocess.setup_target_adata(ad.read_h5ad(data_path+'adipose_human.h5ad'), \n",
    "                              target_batch_key='batch', \n",
    "                              target_cell_key='cell_type_fine', \n",
    "                              target_dataset_name='human', \n",
    "                              target_gene_naming_convention='human', \n",
    "                              target_n_top_genes=4000)\n",
    "\n",
    "preprocess.save_mdata(path, 'adipose')\n",
    "\n",
    "#liver\n",
    "preprocess = create_mdata(ad.read_h5ad(data_path+'liver_mouseStSt.h5ad'), \n",
    "                          context_batch_key='batch', \n",
    "                          context_cell_key='cell_type_fine', \n",
    "                          context_dataset_name='mouse', \n",
    "                          context_gene_naming_convention='mouse', \n",
    "                          context_n_top_genes=4000)\n",
    "\n",
    "preprocess.setup_target_adata(ad.read_h5ad(data_path+'liver_mouseNafld.h5ad'), \n",
    "                              target_batch_key='batch', \n",
    "                              target_cell_key='cell_type_fine', \n",
    "                              target_dataset_name='mouseNafld', \n",
    "                              target_gene_naming_convention='mouse', \n",
    "                              target_n_top_genes=4000)\n",
    "\n",
    "preprocess.setup_target_adata(ad.read_h5ad(data_path+'liver_human.h5ad'), \n",
    "                              target_batch_key='batch', \n",
    "                              target_cell_key='cell_type_fine', \n",
    "                              target_dataset_name='human', \n",
    "                              target_gene_naming_convention='human', \n",
    "                              target_n_top_genes=4000)\n",
    "\n",
    "preprocess.setup_target_adata(ad.read_h5ad(data_path+'liver_pig.h5ad'), \n",
    "                              target_batch_key='batch', \n",
    "                              target_cell_key='cell_type_coarse', \n",
    "                              target_dataset_name='pig', \n",
    "                              target_gene_naming_convention='human', \n",
    "                              target_n_top_genes=4000)\n",
    "\n",
    "preprocess.setup_target_adata(ad.read_h5ad(data_path+'liver_chicken.h5ad'), \n",
    "                              target_batch_key='batch', \n",
    "                              target_cell_key='cell_type_coarse', \n",
    "                              target_dataset_name='chicken', \n",
    "                              target_gene_naming_convention='human', \n",
    "                              target_n_top_genes=4000)\n",
    "\n",
    "preprocess.setup_target_adata(ad.read_h5ad(data_path+'liver_hamster.h5ad'), \n",
    "                              target_batch_key='batch', \n",
    "                              target_cell_key='cell_type_coarse', \n",
    "                              target_dataset_name='hamster', \n",
    "                              target_gene_naming_convention='mouse', \n",
    "                              target_n_top_genes=4000)\n",
    "\n",
    "preprocess.setup_target_adata(ad.read_h5ad(data_path+'liver_monkey.h5ad'), \n",
    "                              target_batch_key='batch', \n",
    "                              target_cell_key='cell_type_coarse', \n",
    "                              target_dataset_name='monkey', \n",
    "                              target_gene_naming_convention='human', \n",
    "                              target_n_top_genes=4000)\n",
    "\n",
    "preprocess.save_mdata(data_path, 'liver')"
   ]
  },
  {
   "cell_type": "code",
   "execution_count": 9,
   "metadata": {},
   "outputs": [],
   "source": [
    "#liver\n",
    "#preprocess = create_mdata(ad.read_h5ad(data_path+'liver_mouseNafld.h5ad'), \n",
    "#                          context_batch_key='batch', \n",
    "#                          context_cell_key='cell_type_fine', \n",
    "#                          context_dataset_name='mouseNafld', \n",
    "#                          context_gene_naming_convention='mouse', \n",
    "#                          context_n_top_genes=4000)\n",
    "\n",
    "#preprocess.setup_target_adata(ad.read_h5ad(data_path+'liver_human.h5ad'), \n",
    " #                             target_batch_key='batch', \n",
    "#                              target_cell_key='cell_type_fine', \n",
    "#                              target_dataset_name='human', \n",
    "#                              target_gene_naming_convention='human', \n",
    "#                              target_n_top_genes=4000)\n",
    "\n",
    "#preprocess.save_mdata(path, 'liver_nafld')"
   ]
  }
 ],
 "metadata": {
  "kernelspec": {
   "display_name": "scSpecies_env",
   "language": "python",
   "name": "python3"
  },
  "language_info": {
   "codemirror_mode": {
    "name": "ipython",
    "version": 3
   },
   "file_extension": ".py",
   "mimetype": "text/x-python",
   "name": "python",
   "nbconvert_exporter": "python",
   "pygments_lexer": "ipython3",
   "version": "3.11.11"
  },
  "orig_nbformat": 4
 },
 "nbformat": 4,
 "nbformat_minor": 2
}
